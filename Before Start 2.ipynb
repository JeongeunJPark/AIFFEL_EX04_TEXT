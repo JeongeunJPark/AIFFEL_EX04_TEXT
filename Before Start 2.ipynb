{
 "cells": [
  {
   "cell_type": "markdown",
   "metadata": {},
   "source": [
    "## 시작하기 전에     \n",
    "\n",
    "#### 이 노드의 목표      \n",
    "\n",
    "   1. 텍스트용 데이터를 수치 데이터로 변환하는 과정을 이해한다.   \n",
    "   2. RNN에 대해 알아본다.         \n",
    "   3. 시퀀셜한 데이터를 다루는 방법을 이해한다.      \n",
    "   4. 1-D CNN에 대해 알아보고, 이를 이용하여 텍스트를 처리한다.       \n",
    "   5. IMDB와 네이버 영화리뷰 데이터셋을 이용하여 감성분류를 수행한다."
   ]
  },
  {
   "cell_type": "markdown",
   "metadata": {},
   "source": [
    "#### 1. 텍스트 데이터의 특징        \n",
    "\n",
    "1) 텍스트 감성분석의 기법     \n",
    "* 기계학습 기반의 접근법\n",
    "* 감성사전 기반 접근법   \n",
    "\n",
    "2) __워드 임베딩 기법__ ex)word2Vec using CNN, LSTM   \n",
    "  * 단어의 특성을 저차원 벡터값으로 표현하는 기법.    \n",
    "  * 단어의 의미가 유사할 경우 벡터 공간상에 가깝게 배치해 단어 간의 어휘적 관계를 벡터로 표현하는 방법.\n",
    "  * 라벨링 비용을 절감하면서, 정확도를 크게 향상시킬 수 있다.     \n",
    "  \n",
    "3) 텍스트 데이터를 어떻게 숫자로 바꿔보지?    \n",
    "\n",
    "    > \"텍스트를 어떻게 숫자 행렬로 표현할 것인가?\"\n",
    "    > \"텍스트의 입력 순서를 어떻게 인공지능에 반영해주는가?\""
   ]
  },
  {
   "cell_type": "markdown",
   "metadata": {},
   "source": [
    "#### 2. 텍스트를 숫자 행렬로 표현하는 법"
   ]
  },
  {
   "cell_type": "code",
   "execution_count": 1,
   "metadata": {},
   "outputs": [
    {
     "name": "stdout",
     "output_type": "stream",
     "text": [
      "['I', 'feel', 'pretty']\n"
     ]
    }
   ],
   "source": [
    "sentences = ['I feel pretty', 'I really miss you', 'Have a nice day']\n",
    "\n",
    "word_list = 'I feel pretty'.split()\n",
    "print(word_list)"
   ]
  },
  {
   "cell_type": "code",
   "execution_count": 2,
   "metadata": {},
   "outputs": [
    {
     "name": "stdout",
     "output_type": "stream",
     "text": [
      "{0: '<PAD>', 1: '<BOS>', 2: '<UNK>', 3: 'I', 4: 'feel', 5: 'pretty', 6: 'Have', 7: 'a', 8: 'nice', 9: 'day'}\n"
     ]
    }
   ],
   "source": [
    "#모든 문장을 단어 단위로 쪼개어 딕셔너리로 표현하기\n",
    "\n",
    "index_to_word = {}\n",
    "\n",
    "index_to_word[0]='<PAD>'\n",
    "index_to_word[1]='<BOS>'\n",
    "index_to_word[2]='<UNK>'\n",
    "index_to_word[3]='I'\n",
    "index_to_word[4]='feel'\n",
    "index_to_word[5]='pretty'\n",
    "index_to_word[6]='Have'\n",
    "index_to_word[7]='a'\n",
    "index_to_word[8]='nice'\n",
    "index_to_word[9]='day'\n",
    "\n",
    "print(index_to_word)\n"
   ]
  },
  {
   "cell_type": "code",
   "execution_count": 6,
   "metadata": {},
   "outputs": [
    {
     "name": "stdout",
     "output_type": "stream",
     "text": [
      "{'<PAD>': 0, '<BOS>': 1, '<UNK>': 2, 'I': 3, 'feel': 4, 'pretty': 5, 'Have': 6, 'a': 7, 'nice': 8, 'day': 9}\n"
     ]
    }
   ],
   "source": [
    "#텍스트 데이터를 숫자로 바꾸려면, 단어(키):숫자(밸류) 구조여야 하므로 딕셔너리를 뒤집어보자.\n",
    "\n",
    "word_to_index={word:index for index, word in index_to_word.items()}\n",
    "print(word_to_index)"
   ]
  },
  {
   "cell_type": "code",
   "execution_count": 48,
   "metadata": {},
   "outputs": [
    {
     "name": "stdout",
     "output_type": "stream",
     "text": [
      "[1, 2, 6, 327, 251]\n"
     ]
    }
   ],
   "source": [
    "#문장을 입력하면, 단어 인덱스 리스트로 변환하는 함수\n",
    "#인공지능 입력을 위해 모든 문장은 'BOS'로 시작해야한다.\n",
    "\n",
    "def get_changed_sentence(sentence, word_to_index):\n",
    "    return [word_to_index['<BOS>']]+[word_to_index[word] if word in word_to_index else word_to_index['<UNK>'] for word in sentence.split()]\n",
    "\n",
    "# 위의 목록에서 수동으로 word_to_index에 넣어준 'Have a nice day' 가 숫자로 변환되어 존재함을 알 수 있다.\n",
    "print(get_changed_sentence('Have a nice day', word_to_index))"
   ]
  },
  {
   "cell_type": "code",
   "execution_count": 12,
   "metadata": {},
   "outputs": [
    {
     "name": "stdout",
     "output_type": "stream",
     "text": [
      "[[1, 3, 4, 5], [1, 3, 2, 2, 2], [1, 6, 7, 8, 9]]\n"
     ]
    }
   ],
   "source": [
    "#확장 ver(여러개의 문자를 적용시켜 보자)\n",
    "\n",
    "def get_changed_sentences(sentences, word_to_index):\n",
    "    return [get_changed_sentence(sentence, word_to_index) for sentence in sentences]\n",
    "\n",
    "#기존에 sentences에 있던 문장들이 변환되어 존재함을 알 수 있음.\n",
    "#'I feel pretty', 'I really miss you', 'Have a nice day'\n",
    "#공통적으로 들어간 1(<BOS>) 말고 기존에 있었던 애들은 숫자 그대로, 없었던 애(really miss you)는 2로 통일되어 나오는 것을 알수있다.\n",
    "#왜 그럴까?\n",
    "changed_sentences = get_changed_sentences(sentences, word_to_index)\n",
    "print(changed_sentences)"
   ]
  },
  {
   "cell_type": "code",
   "execution_count": 15,
   "metadata": {},
   "outputs": [
    {
     "name": "stdout",
     "output_type": "stream",
     "text": [
      "I <UNK> <UNK> <UNK>\n",
      "Have a nice day\n"
     ]
    }
   ],
   "source": [
    "#반대로, 숫자처리된 자료들을 다시 텍스트로 변환하는 함수도 만들어놓자.\n",
    "def get_back_sentence(changed_sentence, index_to_word):\n",
    "    return ' '.join(index_to_word[index] if index in index_to_word else '<UNK>' for index in changed_sentence[1:])\n",
    "\n",
    "#2로 변환된 really miss you는 처리가 안된다!\n",
    "print(get_back_sentence([1,3,2,2,2], index_to_word))\n",
    "print(get_back_sentence([1,6,7,8,9], index_to_word))"
   ]
  },
  {
   "cell_type": "code",
   "execution_count": 17,
   "metadata": {},
   "outputs": [
    {
     "name": "stdout",
     "output_type": "stream",
     "text": [
      "['I feel pretty', 'I <UNK> <UNK> <UNK>', 'Have a nice day']\n"
     ]
    }
   ],
   "source": [
    "#이번엔 숫자처리된 자료들을 텍스트(들)로 변환하는 확장ver.\n",
    "def get_back_sentences(changed_sentences, index_to_word):\n",
    "    return [get_back_sentence(changed_sentence, index_to_word) for changed_sentence in changed_sentences]\n",
    "\n",
    "print(get_back_sentences(changed_sentences, index_to_word))"
   ]
  },
  {
   "cell_type": "markdown",
   "metadata": {},
   "source": [
    "#### 3. 임베딩 레이어        \n",
    "\n",
    "> 단순히 텍스트를 숫자로 대치하는 것 뿐만이 아니라, '텍스트 간의 상관관계'를 알 수 있어야 한다.    \n",
    "\n",
    "- 단어의 의미를 나타내는 벡터를 '파라미터'로 놓고 딥러닝이 이를 학습한다.\n",
    "- Tensorflow, Pytorch에는 이러한 의미 벡터들을 담아놓은 임베딩 레이어를 제공해준다.    \n"
   ]
  },
  {
   "cell_type": "markdown",
   "metadata": {},
   "source": [
    " __임베딩 레이어 사용상의 주의사항__    \n",
    " \n",
    " * 임베딩 레이어의 인풋 문장은 __길이가 일정해야 한다.__      \n",
    " * 임베딩 레이어에 집어넣을 때는 텐서플로우의 'keras.preprocessing.sequence.pad_sequence' 를 통해 <PAD> 를 주고 가자.    "
   ]
  },
  {
   "cell_type": "code",
   "execution_count": 24,
   "metadata": {},
   "outputs": [
    {
     "name": "stdout",
     "output_type": "stream",
     "text": [
      "word_to_index 길이 :  10\n",
      "[[1 3 4 5 0]\n",
      " [1 3 2 2 2]\n",
      " [1 6 7 8 9]]\n",
      "tf.Tensor(\n",
      "[[[-0.03051151  0.02841732 -0.03729496 -0.02859491]\n",
      "  [ 0.0024193   0.03932982  0.00559451  0.0408089 ]\n",
      "  [ 0.04109034 -0.04591468 -0.03560702 -0.01259921]\n",
      "  [-0.03085756 -0.01416973  0.01689265  0.04038281]\n",
      "  [ 0.02616055 -0.02782708  0.0316637   0.04122571]]\n",
      "\n",
      " [[-0.03051151  0.02841732 -0.03729496 -0.02859491]\n",
      "  [ 0.0024193   0.03932982  0.00559451  0.0408089 ]\n",
      "  [ 0.01436741 -0.04632701 -0.04413111 -0.0402706 ]\n",
      "  [ 0.01436741 -0.04632701 -0.04413111 -0.0402706 ]\n",
      "  [ 0.01436741 -0.04632701 -0.04413111 -0.0402706 ]]\n",
      "\n",
      " [[-0.03051151  0.02841732 -0.03729496 -0.02859491]\n",
      "  [ 0.04573134  0.04993096 -0.04990758 -0.03642692]\n",
      "  [-0.00891285 -0.02764868  0.0483343  -0.01335718]\n",
      "  [-0.02255197  0.00026774  0.00019399 -0.02052029]\n",
      "  [-0.0233076   0.00730736  0.03960934  0.04454095]]], shape=(3, 5, 4), dtype=float32)\n",
      "\n",
      " output's shape :  (3, 5, 4)\n"
     ]
    },
    {
     "name": "stderr",
     "output_type": "stream",
     "text": [
      "/home/ssac23/anaconda3/envs/aiffel/lib/python3.7/site-packages/ipykernel_launcher.py:14: VisibleDeprecationWarning: Creating an ndarray from ragged nested sequences (which is a list-or-tuple of lists-or-tuples-or ndarrays with different lengths or shapes) is deprecated. If you meant to do this, you must specify 'dtype=object' when creating the ndarray\n",
      "  \n"
     ]
    }
   ],
   "source": [
    "import numpy as np\n",
    "import tensorflow as tf\n",
    "from tensorflow import keras\n",
    "\n",
    "vocab_size = len(word_to_index)\n",
    "print(\"word_to_index 길이 : \", vocab_size)\n",
    "\n",
    "#단어가 4차원 워드벡터로 이루어질 것으로 가정\n",
    "word_vector_dimension = 4\n",
    "\n",
    "embedding = tf.keras.layers.Embedding(input_dim=vocab_size, output_dim=word_vector_dimension, mask_zero=True)\n",
    "\n",
    "#raw_inputs를 말해주고,\n",
    "raw_inputs=np.array(get_changed_sentences(sentences, word_to_index))\n",
    "\n",
    "#프리프로세싱.시퀀스.패드시퀀스를 통해 길이를 패딩으로 맞춰줌\n",
    "#첫 센텐스의 마지막 부분이 0인 것을 알 수 있음\n",
    "raw_inputs = keras.preprocessing.sequence.pad_sequences(raw_inputs, value=word_to_index['<PAD>'], padding='post', maxlen=5)\n",
    "\n",
    "print(raw_inputs)\n",
    "\n",
    "#센텐스가 워드 벡터로 임베딩되어 output으로 나온다는 것을 알 수 있음\n",
    "output=embedding(raw_inputs)\n",
    "print(output)\n",
    "print(\"\\n output's shape : \", output.shape)"
   ]
  },
  {
   "cell_type": "markdown",
   "metadata": {},
   "source": [
    "* output shape의 (3,5,4)는 각각     \n",
    "* 입력 문장의 개수, 입력 문장의 최대 길이, 워드벡터의 차원 수이다."
   ]
  },
  {
   "cell_type": "markdown",
   "metadata": {},
   "source": [
    "#### 시퀀스를 다루는 RNN      \n",
    "\n",
    "1) RNN의 특징    \n",
    "    - RNN(Recurrent Neural Network)/ recurrent:되풀이\n",
    "    - 텍스트 데이터, 음성 데이터와 같은 시퀀스 데이터를 처리하기에 좋다.\n",
    "    - 시퀀스 데이터? => 입력이 시간을 따라 발생하는 데이터.\n",
    "    - 나 오늘 ~했는데 그래서~ => 그 뒤를 아무도 예측할 수 없다!      \n",
    "  ---\n",
    "   - RNN은 이것에 대비해 __시간의 흐름에 따라 새롭게 변하는 데이터를 묘사하는 state machine으로 설계되었다__    \n",
    "    > state vs stateless\n",
    "    > state : 이전의 상태가 저장되어 다음의 입력에 영향을 미친다.   \n",
    "    > stateless : 이전 상태는 전혀 저장되지 않아 매번 새롭게 처음부터 끝까지 입력해줘야 한다."
   ]
  },
  {
   "cell_type": "markdown",
   "metadata": {},
   "source": [
    "2) RNN을 사용한 텍스트 데이터 처리"
   ]
  },
  {
   "cell_type": "code",
   "execution_count": 25,
   "metadata": {},
   "outputs": [
    {
     "name": "stdout",
     "output_type": "stream",
     "text": [
      "Model: \"sequential\"\n",
      "_________________________________________________________________\n",
      "Layer (type)                 Output Shape              Param #   \n",
      "=================================================================\n",
      "embedding_7 (Embedding)      (None, None, 4)           40        \n",
      "_________________________________________________________________\n",
      "lstm (LSTM)                  (None, 8)                 416       \n",
      "_________________________________________________________________\n",
      "dense (Dense)                (None, 8)                 72        \n",
      "_________________________________________________________________\n",
      "dense_1 (Dense)              (None, 1)                 9         \n",
      "=================================================================\n",
      "Total params: 537\n",
      "Trainable params: 537\n",
      "Non-trainable params: 0\n",
      "_________________________________________________________________\n"
     ]
    }
   ],
   "source": [
    "import numpy as np\n",
    "import tensorflow as tf\n",
    "from tensorflow import keras\n",
    "\n",
    "voca_size =10\n",
    "word_vector_dimension=4\n",
    "\n",
    "model = keras.Sequential()\n",
    "model.add(keras.layers.Embedding(voca_size, word_vector_dimension, input_shape=(None,)))\n",
    "\n",
    "#아까 많이 쓰인다고 했던 바로 그 레이어! LSTM\n",
    "model.add(keras.layers.LSTM(8))\n",
    "model.add(keras.layers.Dense(8, activation='relu'))\n",
    "model.add(keras.layers.Dense(1, activation='sigmoid'))\n",
    "\n",
    "model.summary()"
   ]
  },
  {
   "cell_type": "markdown",
   "metadata": {},
   "source": [
    "#### 아니, 근데 그러면 RNN만 되나?      __NOPE__     \n",
    "\n",
    "- 1-D CNN을 사용할 수도 있다.(이미지에는 2D CNN을 썼지만, 텍스트는 한줄로 들어오는 자료이므로 1D CNN)   \n",
    "- 1-D CNN은 문장 전체를 한꺼번에 길이 7짜리의 필터로 스캐닝하여 7단어 이내에서 특징을 추출하여 문장 분류   \n",
    "- CNN은 RNN보다 병렬처리를 효율적으로 수행하므로, 학습 속도가 빠르게 진행된다!"
   ]
  },
  {
   "cell_type": "markdown",
   "metadata": {},
   "source": [
    "#### 1-D CNN을 구현해보자."
   ]
  },
  {
   "cell_type": "code",
   "execution_count": 27,
   "metadata": {},
   "outputs": [
    {
     "name": "stdout",
     "output_type": "stream",
     "text": [
      "Model: \"sequential_2\"\n",
      "_________________________________________________________________\n",
      "Layer (type)                 Output Shape              Param #   \n",
      "=================================================================\n",
      "embedding_9 (Embedding)      (None, None, 4)           40        \n",
      "_________________________________________________________________\n",
      "conv1d_2 (Conv1D)            (None, None, 16)          464       \n",
      "_________________________________________________________________\n",
      "max_pooling1d_1 (MaxPooling1 (None, None, 16)          0         \n",
      "_________________________________________________________________\n",
      "conv1d_3 (Conv1D)            (None, None, 16)          1808      \n",
      "_________________________________________________________________\n",
      "global_max_pooling1d (Global (None, 16)                0         \n",
      "_________________________________________________________________\n",
      "dense_2 (Dense)              (None, 8)                 136       \n",
      "_________________________________________________________________\n",
      "dense_3 (Dense)              (None, 1)                 9         \n",
      "=================================================================\n",
      "Total params: 2,457\n",
      "Trainable params: 2,457\n",
      "Non-trainable params: 0\n",
      "_________________________________________________________________\n"
     ]
    }
   ],
   "source": [
    "voca_size = 10\n",
    "word_vector_dim = 4\n",
    "\n",
    "model = keras.Sequential()\n",
    "model.add(keras.layers.Embedding(voca_size, word_vector_dim, input_shape=(None,)))\n",
    "model.add(keras.layers.Conv1D(16,7,activation='relu'))\n",
    "model.add(keras.layers.MaxPooling1D(5))\n",
    "model.add(keras.layers.Conv1D(16,7,activation='relu'))\n",
    "model.add(keras.layers.GlobalMaxPooling1D())\n",
    "model.add(keras.layers.Dense(8,activation='relu'))\n",
    "model.add(keras.layers.Dense(1,activation='sigmoid'))\n",
    "\n",
    "model.summary()"
   ]
  },
  {
   "cell_type": "markdown",
   "metadata": {},
   "source": [
    "__이 수많은 레이어 중 GlobalMaxPooling1D()만 써도 의외로 긍정적인 효과가 있을 수 있다!__ 고 한다   \n",
    "- 이 방법은 전체 문장 중 가장 중요한 한 단어만 추출하여 긍/부정을 판단하는 방식"
   ]
  },
  {
   "cell_type": "code",
   "execution_count": 28,
   "metadata": {},
   "outputs": [
    {
     "name": "stdout",
     "output_type": "stream",
     "text": [
      "Model: \"sequential_3\"\n",
      "_________________________________________________________________\n",
      "Layer (type)                 Output Shape              Param #   \n",
      "=================================================================\n",
      "embedding_10 (Embedding)     (None, None, 4)           40        \n",
      "_________________________________________________________________\n",
      "global_max_pooling1d_1 (Glob (None, 4)                 0         \n",
      "_________________________________________________________________\n",
      "dense_4 (Dense)              (None, 8)                 40        \n",
      "_________________________________________________________________\n",
      "dense_5 (Dense)              (None, 1)                 9         \n",
      "=================================================================\n",
      "Total params: 89\n",
      "Trainable params: 89\n",
      "Non-trainable params: 0\n",
      "_________________________________________________________________\n"
     ]
    }
   ],
   "source": [
    "voca_size = 10\n",
    "word_vector_dim = 4\n",
    "\n",
    "model = keras.Sequential()\n",
    "model.add(keras.layers.Embedding(voca_size, word_vector_dim, input_shape=(None,)))\n",
    "model.add(keras.layers.GlobalMaxPooling1D())\n",
    "model.add(keras.layers.Dense(8,activation='relu'))\n",
    "model.add(keras.layers.Dense(1,activation='sigmoid'))\n",
    "\n",
    "model.summary()"
   ]
  },
  {
   "cell_type": "markdown",
   "metadata": {},
   "source": [
    "이 외에도,     \n",
    "\n",
    "> - 1-D CNN을 RNN레이어와 섞어 쓰거나,    \n",
    "> - FFN(FeedForwardNetwork)레이어만으로 구성하거나,      \n",
    "> - Transformer 레이어를 쓰는 등 \n",
    "\n",
    "다양한 해결책을 찾을 수 있다. "
   ]
  },
  {
   "cell_type": "markdown",
   "metadata": {},
   "source": [
    "#### IMDB 영화 리뷰 감성분석 해보기       \n",
    "\n",
    "- IMDB Large Movie Dataset : 50,000개의 영어로 작성된 영화 리뷰 텍스트    \n",
    "- 긍정:1, 부정:0    \n",
    "- 훈련 데이터:25,000, 평가 데이터:25,000"
   ]
  },
  {
   "cell_type": "code",
   "execution_count": 30,
   "metadata": {},
   "outputs": [
    {
     "name": "stdout",
     "output_type": "stream",
     "text": [
      "2.2.0\n",
      "훈련 샘플 개수: 25000, 테스트 개수: 25000\n"
     ]
    }
   ],
   "source": [
    "#데이터 다운로드 및 전처리 시퀀스\n",
    "\n",
    "import tensorflow as tf\n",
    "from tensorflow import keras\n",
    "import numpy as np\n",
    "\n",
    "print(tf.__version__)\n",
    "imdb = keras.datasets.imdb\n",
    "\n",
    "#num_words=10,000 옵션을 통해, 10,000개의 word_to_index 딕셔너리가 생성된 형태로 데이터가 다운된다.\n",
    "(x_train, y_train), (x_test, y_test) = imdb.load_data(num_words=10000)\n",
    "print(\"훈련 샘플 개수: {}, 테스트 개수: {}\".format(len(x_train), len(x_test)))"
   ]
  },
  {
   "cell_type": "code",
   "execution_count": 32,
   "metadata": {},
   "outputs": [
    {
     "name": "stdout",
     "output_type": "stream",
     "text": [
      "[1, 14, 22, 16, 43, 530, 973, 1622, 1385, 65, 458, 4468, 66, 3941, 4, 173, 36, 256, 5, 25, 100, 43, 838, 112, 50, 670, 2, 9, 35, 480, 284, 5, 150, 4, 172, 112, 167, 2, 336, 385, 39, 4, 172, 4536, 1111, 17, 546, 38, 13, 447, 4, 192, 50, 16, 6, 147, 2025, 19, 14, 22, 4, 1920, 4613, 469, 4, 22, 71, 87, 12, 16, 43, 530, 38, 76, 15, 13, 1247, 4, 22, 17, 515, 17, 12, 16, 626, 18, 2, 5, 62, 386, 12, 8, 316, 8, 106, 5, 4, 2223, 5244, 16, 480, 66, 3785, 33, 4, 130, 12, 16, 38, 619, 5, 25, 124, 51, 36, 135, 48, 25, 1415, 33, 6, 22, 12, 215, 28, 77, 52, 5, 14, 407, 16, 82, 2, 8, 4, 107, 117, 5952, 15, 256, 4, 2, 7, 3766, 5, 723, 36, 71, 43, 530, 476, 26, 400, 317, 46, 7, 4, 2, 1029, 13, 104, 88, 4, 381, 15, 297, 98, 32, 2071, 56, 26, 141, 6, 194, 7486, 18, 4, 226, 22, 21, 134, 476, 26, 480, 5, 144, 30, 5535, 18, 51, 36, 28, 224, 92, 25, 104, 4, 226, 65, 16, 38, 1334, 88, 12, 16, 283, 5, 16, 4472, 113, 103, 32, 15, 16, 5345, 19, 178, 32]\n",
      "라벨:  1\n",
      "1번째 리뷰 문장 길이:  218\n"
     ]
    }
   ],
   "source": [
    "#1번째 리뷰데이터는 218개의 단어로 이루어져 있으며, \n",
    "#결과는 1이므로 긍정 리뷰임을 알 수 있음\n",
    "print(x_train[0]) \n",
    "print('라벨: ', y_train[0])  \n",
    "print('1번째 리뷰 문장 길이: ', len(x_train[0]))"
   ]
  },
  {
   "cell_type": "code",
   "execution_count": 44,
   "metadata": {},
   "outputs": [
    {
     "name": "stdout",
     "output_type": "stream",
     "text": [
      "the\n",
      "1\n",
      "<BOS>\n",
      "4\n",
      "the\n"
     ]
    }
   ],
   "source": [
    "#텐서플로우 사용 가이드에 따라, 인코더 함수와 디코더 함수를 좀 수정한다.\n",
    "\n",
    "word_to_index = imdb.get_word_index()\n",
    "index_to_word = {index:word for word, index in word_to_index.items()}\n",
    "\n",
    "#디코더 함수를 수정하기 전에는 1:the 였다는 것을 기억하자.\n",
    "print(index_to_word[1])     # 'the'  \n",
    "print(word_to_index['the'])  # 1 \n",
    "\n",
    "#실제 인코딩 인덱스는 제공된 word_to_index에서 index 기준으로 3씩 뒤로 밀려 있다.  \n",
    "word_to_index = {k:(v+3) for k,v in word_to_index.items()}\n",
    "\n",
    "# 처음 몇 개 인덱스는 사전에 정의되어 있다.\n",
    "word_to_index[\"<PAD>\"] = 0\n",
    "word_to_index[\"<BOS>\"] = 1\n",
    "word_to_index[\"<UNK>\"] = 2 \n",
    "word_to_index[\"<UNUSED>\"] = 3\n",
    "\n",
    "index_to_word[0] = \"<PAD>\"\n",
    "index_to_word[1] = \"<BOS>\"\n",
    "index_to_word[2] = \"<UNK>\"\n",
    "index_to_word[3] = \"<UNUSED>\"\n",
    "\n",
    "index_to_word = {index:word for word, index in word_to_index.items()}\n",
    "\n",
    "#위에서 함수를 수정하며 '세 칸 밀렸기 때문에' 4:the가 되었다.\n",
    "print(index_to_word[1])     # '<BOS>' 가 출력됩니다. \n",
    "print(word_to_index['the'])  # 4 이 출력됩니다. \n",
    "print(index_to_word[4])     # 'the' 가 출력됩니다."
   ]
  },
  {
   "cell_type": "code",
   "execution_count": 50,
   "metadata": {},
   "outputs": [
    {
     "ename": "KeyError",
     "evalue": "'<BOS>'",
     "output_type": "error",
     "traceback": [
      "\u001b[0;31m---------------------------------------------------------------------------\u001b[0m",
      "\u001b[0;31mKeyError\u001b[0m                                  Traceback (most recent call last)",
      "\u001b[0;32m<ipython-input-50-3b7ce17c5f57>\u001b[0m in \u001b[0;36m<module>\u001b[0;34m\u001b[0m\n\u001b[1;32m      1\u001b[0m \u001b[0;31m#수정한 디코더가 제대로 작동하는지 확인해보자\u001b[0m\u001b[0;34m\u001b[0m\u001b[0;34m\u001b[0m\u001b[0;34m\u001b[0m\u001b[0m\n\u001b[0;32m----> 2\u001b[0;31m \u001b[0mprint\u001b[0m\u001b[0;34m(\u001b[0m\u001b[0mget_changed_sentence\u001b[0m\u001b[0;34m(\u001b[0m\u001b[0mx_train\u001b[0m\u001b[0;34m[\u001b[0m\u001b[0;36m5\u001b[0m\u001b[0;34m]\u001b[0m\u001b[0;34m,\u001b[0m \u001b[0mindex_to_word\u001b[0m\u001b[0;34m)\u001b[0m\u001b[0;34m)\u001b[0m\u001b[0;34m\u001b[0m\u001b[0;34m\u001b[0m\u001b[0m\n\u001b[0m\u001b[1;32m      3\u001b[0m \u001b[0mprint\u001b[0m\u001b[0;34m(\u001b[0m\u001b[0;34m'라벨: '\u001b[0m\u001b[0;34m,\u001b[0m \u001b[0my_train\u001b[0m\u001b[0;34m[\u001b[0m\u001b[0;36m5\u001b[0m\u001b[0;34m]\u001b[0m\u001b[0;34m)\u001b[0m  \u001b[0;31m# 1번째 리뷰데이터의 라벨\u001b[0m\u001b[0;34m\u001b[0m\u001b[0;34m\u001b[0m\u001b[0m\n",
      "\u001b[0;32m<ipython-input-48-16a1b208d945>\u001b[0m in \u001b[0;36mget_changed_sentence\u001b[0;34m(sentence, word_to_index)\u001b[0m\n\u001b[1;32m      3\u001b[0m \u001b[0;34m\u001b[0m\u001b[0m\n\u001b[1;32m      4\u001b[0m \u001b[0;32mdef\u001b[0m \u001b[0mget_changed_sentence\u001b[0m\u001b[0;34m(\u001b[0m\u001b[0msentence\u001b[0m\u001b[0;34m,\u001b[0m \u001b[0mword_to_index\u001b[0m\u001b[0;34m)\u001b[0m\u001b[0;34m:\u001b[0m\u001b[0;34m\u001b[0m\u001b[0;34m\u001b[0m\u001b[0m\n\u001b[0;32m----> 5\u001b[0;31m     \u001b[0;32mreturn\u001b[0m \u001b[0;34m[\u001b[0m\u001b[0mword_to_index\u001b[0m\u001b[0;34m[\u001b[0m\u001b[0;34m'<BOS>'\u001b[0m\u001b[0;34m]\u001b[0m\u001b[0;34m]\u001b[0m\u001b[0;34m+\u001b[0m\u001b[0;34m[\u001b[0m\u001b[0mword_to_index\u001b[0m\u001b[0;34m[\u001b[0m\u001b[0mword\u001b[0m\u001b[0;34m]\u001b[0m \u001b[0;32mif\u001b[0m \u001b[0mword\u001b[0m \u001b[0;32min\u001b[0m \u001b[0mword_to_index\u001b[0m \u001b[0;32melse\u001b[0m \u001b[0mword_to_index\u001b[0m\u001b[0;34m[\u001b[0m\u001b[0;34m'<UNK>'\u001b[0m\u001b[0;34m]\u001b[0m \u001b[0;32mfor\u001b[0m \u001b[0mword\u001b[0m \u001b[0;32min\u001b[0m \u001b[0msentence\u001b[0m\u001b[0;34m.\u001b[0m\u001b[0msplit\u001b[0m\u001b[0;34m(\u001b[0m\u001b[0;34m)\u001b[0m\u001b[0;34m]\u001b[0m\u001b[0;34m\u001b[0m\u001b[0;34m\u001b[0m\u001b[0m\n\u001b[0m\u001b[1;32m      6\u001b[0m \u001b[0;34m\u001b[0m\u001b[0m\n\u001b[1;32m      7\u001b[0m \u001b[0;31m# 위의 목록에서 수동으로 word_to_index에 넣어준 'Have a nice day' 가 숫자로 변환되어 존재함을 알 수 있다.\u001b[0m\u001b[0;34m\u001b[0m\u001b[0;34m\u001b[0m\u001b[0;34m\u001b[0m\u001b[0m\n",
      "\u001b[0;31mKeyError\u001b[0m: '<BOS>'"
     ]
    }
   ],
   "source": [
    "#수정한 디코더가 제대로 작동하는지 확인해보자\n",
    "print(get_changed_sentence(x_train[5], index_to_word))\n",
    "print('라벨: ', y_train[5])  # 1번째 리뷰데이터의 라벨"
   ]
  },
  {
   "cell_type": "markdown",
   "metadata": {},
   "source": [
    "#### 잊지 말아야 할 것     \n",
    "   * __pad_sequences__ 를 통해 데이터의 문장 길이를 통일해야 한다.\n",
    "   * 문장 최대 길이를 정하는 __maxlen__ 도 모델 성능에 영향을 미치기 때문에,    \n",
    "   * 전체 데이터셋의 길이 분포를 확인하여 가장 적절한 길이를 적용해주는 것이 좋다."
   ]
  },
  {
   "cell_type": "code",
   "execution_count": 52,
   "metadata": {},
   "outputs": [
    {
     "name": "stdout",
     "output_type": "stream",
     "text": [
      "문장길이 평균 :  234.75892\n",
      "문장길이 최대 :  2494\n",
      "문장길이 표준편차 :  172.91149458735703\n",
      "pad_sequences maxlen :  580\n",
      "전체 문장의 0.94536%가 maxlen 설정값 이내에 포함됩니다. \n"
     ]
    }
   ],
   "source": [
    "total_data_text = list(x_train) + list(x_test)\n",
    "\n",
    "# 텍스트데이터 문장길이의 리스트를 생성한 후\n",
    "num_tokens = [len(tokens) for tokens in total_data_text]\n",
    "num_tokens = np.array(num_tokens)\n",
    "\n",
    "# 문장길이의 평균값, 최대값, 표준편차를 계산해 본다. \n",
    "print('문장길이 평균 : ', np.mean(num_tokens))\n",
    "print('문장길이 최대 : ', np.max(num_tokens))\n",
    "print('문장길이 표준편차 : ', np.std(num_tokens))\n",
    "\n",
    "# 예를들어, 최대 길이를 (평균 + 2*표준편차)로 한다면,  \n",
    "max_tokens = np.mean(num_tokens) + 2 * np.std(num_tokens)\n",
    "maxlen = int(max_tokens)\n",
    "print('pad_sequences maxlen : ', maxlen)\n",
    "print('전체 문장의 {}%가 maxlen 설정값 이내에 포함됩니다. '.format(np.sum(num_tokens < max_tokens) / len(num_tokens)))"
   ]
  },
  {
   "cell_type": "markdown",
   "metadata": {},
   "source": [
    "   * 또, 패딩을 앞/뒤에 적용하는 __pre, post padding__ 도 모델의 성능에 영향을 미친다.     \n",
    "   * Pre padding이 좋음. 왜? >>     \n",
    "   * RNN은 입력 데이터가 순차적으로 적용되므로, 뒤로 갈 수록 state에 미치는 영향이 커지기 때문.    \n",
    "   * 따라서 뒤쪽 부분이 padding이 될 경우 비효율적이며, pre-padding을 적용하는 것이 좋다.  "
   ]
  },
  {
   "cell_type": "code",
   "execution_count": 53,
   "metadata": {},
   "outputs": [
    {
     "name": "stdout",
     "output_type": "stream",
     "text": [
      "(25000, 580)\n"
     ]
    }
   ],
   "source": [
    "#Pre-padding과 Post-padding의 차이를 적용할 때는 요렇게! \n",
    "x_train = keras.preprocessing.sequence.pad_sequences(x_train,\n",
    "                                                        value=word_to_index[\"<PAD>\"],\n",
    "                                                        padding='post', # 혹은 'pre'\n",
    "                                                        maxlen=maxlen)\n",
    "\n",
    "x_test = keras.preprocessing.sequence.pad_sequences(x_test,\n",
    "                                                       value=word_to_index[\"<PAD>\"],\n",
    "                                                       padding='post', # 혹은 'pre'\n",
    "                                                       maxlen=maxlen)\n",
    "\n",
    "print(x_train.shape)"
   ]
  },
  {
   "cell_type": "markdown",
   "metadata": {},
   "source": [
    "## 2. 분석 실습하기"
   ]
  },
  {
   "cell_type": "markdown",
   "metadata": {},
   "source": [
    "1. 훈련을 시행하기 전에, 훈련 데이터셋을 훈련+검증 셋으로 나누어준다."
   ]
  },
  {
   "cell_type": "code",
   "execution_count": 54,
   "metadata": {},
   "outputs": [
    {
     "name": "stdout",
     "output_type": "stream",
     "text": [
      "(15000, 580)\n",
      "(15000,)\n"
     ]
    }
   ],
   "source": [
    "# validation set 10000건 분리\n",
    "x_val = x_train[:10000]   \n",
    "y_val = y_train[:10000]\n",
    "\n",
    "# validation set을 제외한 나머지 15000건\n",
    "partial_x_train = x_train[10000:]  \n",
    "partial_y_train = y_train[10000:]\n",
    "\n",
    "print(partial_x_train.shape)\n",
    "print(partial_y_train.shape)"
   ]
  },
  {
   "cell_type": "markdown",
   "metadata": {},
   "source": [
    "### 2-1. RNN모델 적용하기"
   ]
  },
  {
   "cell_type": "code",
   "execution_count": 55,
   "metadata": {},
   "outputs": [
    {
     "name": "stdout",
     "output_type": "stream",
     "text": [
      "Model: \"sequential_4\"\n",
      "_________________________________________________________________\n",
      "Layer (type)                 Output Shape              Param #   \n",
      "=================================================================\n",
      "embedding_11 (Embedding)     (None, None, 16)          160000    \n",
      "_________________________________________________________________\n",
      "lstm_1 (LSTM)                (None, 8)                 800       \n",
      "_________________________________________________________________\n",
      "dense_6 (Dense)              (None, 8)                 72        \n",
      "_________________________________________________________________\n",
      "dense_7 (Dense)              (None, 1)                 9         \n",
      "=================================================================\n",
      "Total params: 160,881\n",
      "Trainable params: 160,881\n",
      "Non-trainable params: 0\n",
      "_________________________________________________________________\n"
     ]
    }
   ],
   "source": [
    "\n",
    "vocab_size = 10000    # 어휘 사전의 크기입니다(10,000개의 단어)\n",
    "word_vector_dim = 16  # 워드 벡터의 차원수 (변경가능한 하이퍼파라미터)\n",
    "\n",
    "# model 설계 - 딥러닝 모델 코드를 직접 작성해 주세요.\n",
    "model = keras.Sequential()\n",
    "model.add(keras.layers.Embedding(vocab_size, word_vector_dim, input_shape=(None,)))\n",
    "model.add(keras.layers.LSTM(8))   # LSTM 레이어를 사용하였습니다. 이때 LSTM state 벡터의 차원수는 8로 하였습니다. (변경가능)\n",
    "model.add(keras.layers.Dense(8, activation='relu'))\n",
    "model.add(keras.layers.Dense(1, activation='sigmoid'))  # 최종 출력은 긍정/부정을 나타내는 1dim 입니다.\n",
    "\n",
    "model.summary()"
   ]
  },
  {
   "cell_type": "code",
   "execution_count": 56,
   "metadata": {},
   "outputs": [
    {
     "name": "stdout",
     "output_type": "stream",
     "text": [
      "Epoch 1/5\n",
      "30/30 [==============================] - 2s 59ms/step - loss: 0.6931 - accuracy: 0.5060 - val_loss: 0.6932 - val_accuracy: 0.4998\n",
      "Epoch 2/5\n",
      "30/30 [==============================] - 1s 47ms/step - loss: 0.6930 - accuracy: 0.5124 - val_loss: 0.6931 - val_accuracy: 0.5007\n",
      "Epoch 3/5\n",
      "30/30 [==============================] - 1s 49ms/step - loss: 0.6925 - accuracy: 0.5120 - val_loss: 0.6929 - val_accuracy: 0.5007\n",
      "Epoch 4/5\n",
      "30/30 [==============================] - 1s 47ms/step - loss: 0.6919 - accuracy: 0.5126 - val_loss: 0.6923 - val_accuracy: 0.5016\n",
      "Epoch 5/5\n",
      "30/30 [==============================] - 1s 47ms/step - loss: 0.6890 - accuracy: 0.5059 - val_loss: 0.6908 - val_accuracy: 0.5044\n"
     ]
    }
   ],
   "source": [
    "model.compile(optimizer='adam',\n",
    "              loss='binary_crossentropy',\n",
    "              metrics=['accuracy'])\n",
    "\n",
    "# 20 에포크 훈련시킨 후, 5에포크를 기점으로 성능에 큰 변화가 없다는 것을 알 수 있었다.               \n",
    "epochs=5  \n",
    "\n",
    "history = model.fit(partial_x_train,\n",
    "                    partial_y_train,\n",
    "                    epochs=epochs,\n",
    "                    batch_size=512,\n",
    "                    validation_data=(x_val, y_val),\n",
    "                    verbose=1)"
   ]
  },
  {
   "cell_type": "code",
   "execution_count": 59,
   "metadata": {},
   "outputs": [
    {
     "name": "stdout",
     "output_type": "stream",
     "text": [
      "782/782 - 7s - loss: 0.6910 - accuracy: 0.5070\n",
      "[0.6909895539283752, 0.5070000290870667]\n"
     ]
    }
   ],
   "source": [
    "results = model.evaluate(x_test, y_test, verbose=2)\n",
    "\n",
    "print(results)"
   ]
  },
  {
   "cell_type": "code",
   "execution_count": 60,
   "metadata": {},
   "outputs": [
    {
     "name": "stdout",
     "output_type": "stream",
     "text": [
      "dict_keys(['loss', 'accuracy', 'val_loss', 'val_accuracy'])\n"
     ]
    }
   ],
   "source": [
    "# history 변수를 통해 epoch마다 발생한 수치들을 확인해 볼 수 있다.\n",
    "history_dict = history.history\n",
    "print(history_dict.keys()) "
   ]
  },
  {
   "cell_type": "code",
   "execution_count": 64,
   "metadata": {},
   "outputs": [
    {
     "data": {
      "image/png": "[encoded data removed]",
      "text/plain": [
       "<Figure size 432x288 with 1 Axes>"
      ]
     },
     "metadata": {
      "needs_background": "light"
     },
     "output_type": "display_data"
    }
   ],
   "source": [
    "#위의 히스토리를 그래프로 그려보자\n",
    "\n",
    "import matplotlib.pyplot as plt\n",
    "\n",
    "accu = history_dict['accuracy']\n",
    "value_accu = history_dict['val_accuracy']\n",
    "\n",
    "loss = history_dict['loss']\n",
    "value_loss = history_dict['val_loss']\n",
    "\n",
    "epochs = range(1, len(accu)+1)\n",
    "\n",
    "# bo와 b는 각각 파란 점선, 파란 선\n",
    "plt.plot(epochs, loss, 'bo', label = 'Training Loss')\n",
    "plt.plot(epochs, value_loss, 'b', label = 'Validation Loss')\n",
    "\n",
    "#그래프 주석(타이틀, x축, y축)\n",
    "plt.title('Training and Validation Loss')\n",
    "plt.xlabel('Epochs')\n",
    "plt.ylabel('Loss')\n",
    "\n",
    "plt.legend()\n",
    "\n",
    "plt.show()"
   ]
  },
  {
   "cell_type": "markdown",
   "metadata": {},
   "source": [
    "> 그래프를 그려 확인할 때, validation loss와 training loss 의 차이가 커지면 트레이닝이 무의미해진다.   "
   ]
  },
  {
   "cell_type": "code",
   "execution_count": 66,
   "metadata": {},
   "outputs": [
    {
     "data": {
      "image/png": "[encoded data removed]",
      "text/plain": [
       "<Figure size 432x288 with 1 Axes>"
      ]
     },
     "metadata": {
      "needs_background": "light"
     },
     "output_type": "display_data"
    }
   ],
   "source": [
    "plt.clf()   # 그림을 초기화합니다\n",
    "\n",
    "plt.plot(epochs, accu, 'bo', label='Training accuracy')\n",
    "plt.plot(epochs, value_accu, 'b', label='Validation accuracy')\n",
    "plt.title('Training and validation accuracy')\n",
    "plt.xlabel('Epochs')\n",
    "plt.ylabel('Accuracy')\n",
    "plt.legend()\n",
    "\n",
    "plt.show()"
   ]
  },
  {
   "cell_type": "markdown",
   "metadata": {},
   "source": [
    "### 2-3. 워드 임베딩 기법과 Word2Vec"
   ]
  },
  {
   "cell_type": "markdown",
   "metadata": {},
   "source": [
    "   * 우리는 Enbedding 레이어를 통해 10,000개의 크기를 가진 파라미터를 학습시켰다.    \n",
    "   * gensim 패키지를 설치하여 몇 가지를 확인"
   ]
  },
  {
   "cell_type": "code",
   "execution_count": 67,
   "metadata": {},
   "outputs": [
    {
     "name": "stdout",
     "output_type": "stream",
     "text": [
      "(10000, 16)\n"
     ]
    }
   ],
   "source": [
    "# 아까 옵션을 주어 10,000 길이를 다운로드 받았다.\n",
    "embedding_layer = model.layers[0]\n",
    "weights = embedding_layer.get_weights()[0]\n",
    "print(weights.shape)    "
   ]
  },
  {
   "cell_type": "code",
   "execution_count": 68,
   "metadata": {},
   "outputs": [],
   "source": [
    "import os\n",
    "\n",
    "# 학습한 Embedding 파라미터를 파일에 써서 저장 \n",
    "word2vec_file_path = os.getenv('HOME')+'/SUBMIT_MISSION_GIT/ex4_Text/word2vec.txt'\n",
    "f = open(word2vec_file_path, 'w')\n",
    "\n",
    "#몇 개, 얼마만큼의 사이즈를 적용할 것인지\n",
    "f.write('{} {}\\n'.format(vocab_size-4, word_vector_dim))  \n",
    "\n",
    "# 단어 개수(에서 특수문자 4개는 제외하고)만큼의 워드 벡터를 파일에 기록합니다. \n",
    "vectors = model.get_weights()[0]\n",
    "for i in range(4,vocab_size):\n",
    "    f.write('{} {}\\n'.format(index_to_word[i], ' '.join(map(str, list(vectors[i, :])))))\n",
    "f.close()"
   ]
  },
  {
   "cell_type": "code",
   "execution_count": 69,
   "metadata": {},
   "outputs": [
    {
     "data": {
      "text/plain": [
       "array([-0.0216671 , -0.04035783, -0.02801956,  0.01957939, -0.02708866,\n",
       "        0.04285479, -0.04346569,  0.00972694,  0.00131848,  0.00091889,\n",
       "       -0.0238007 , -0.03882904, -0.02587099,  0.04241561,  0.02553775,\n",
       "       -0.0223966 ], dtype=float32)"
      ]
     },
     "execution_count": 69,
     "metadata": {},
     "output_type": "execute_result"
    }
   ],
   "source": [
    "from gensim.models.keyedvectors import Word2VecKeyedVectors\n",
    "\n",
    "# Computer라는 단어를 읽어 해당 단어의 워드 벡터를 보여준다.\n",
    "word_vectors = Word2VecKeyedVectors.load_word2vec_format(word2vec_file_path, binary=False)\n",
    "vector = word_vectors['computer']\n",
    "vector"
   ]
  },
  {
   "cell_type": "code",
   "execution_count": 70,
   "metadata": {},
   "outputs": [
    {
     "data": {
      "text/plain": [
       "[('terrific', 0.8653486967086792),\n",
       " ('subtle', 0.8570706844329834),\n",
       " ('shred', 0.8505549430847168),\n",
       " ('persons', 0.827022135257721),\n",
       " ('liberty', 0.8180781602859497),\n",
       " ('favourite', 0.8018106818199158),\n",
       " ('actor', 0.7980704307556152),\n",
       " ('goers', 0.7953050136566162),\n",
       " ('animated', 0.7910274863243103),\n",
       " ('reality', 0.7894230484962463)]"
      ]
     },
     "execution_count": 70,
     "metadata": {},
     "output_type": "execute_result"
    }
   ],
   "source": [
    "#기학습된 데이터 중 'love'와 비슷한 게 있을까?\n",
    "word_vectors.similar_by_word(\"love\")"
   ]
  },
  {
   "cell_type": "markdown",
   "metadata": {},
   "source": [
    "#### 전이학습과 Word2Vec     \n",
    "\n",
    "* 왜 중요한가?    \n",
    "> Word2Vec과 같은 사전학습된 모델은 '이전에 학습된 데이터를 누적시켜 적용' 할 수 있기 때문에, 제로베이스에서 시작하는 다른 모델보다 정확도가 높게 나올 확률이 크다.    "
   ]
  },
  {
   "cell_type": "code",
   "execution_count": 72,
   "metadata": {},
   "outputs": [
    {
     "data": {
      "text/plain": [
       "array([ 1.07421875e-01, -2.01171875e-01,  1.23046875e-01,  2.11914062e-01,\n",
       "       -9.13085938e-02,  2.16796875e-01, -1.31835938e-01,  8.30078125e-02,\n",
       "        2.02148438e-01,  4.78515625e-02,  3.66210938e-02, -2.45361328e-02,\n",
       "        2.39257812e-02, -1.60156250e-01, -2.61230469e-02,  9.71679688e-02,\n",
       "       -6.34765625e-02,  1.84570312e-01,  1.70898438e-01, -1.63085938e-01,\n",
       "       -1.09375000e-01,  1.49414062e-01, -4.65393066e-04,  9.61914062e-02,\n",
       "        1.68945312e-01,  2.60925293e-03,  8.93554688e-02,  6.49414062e-02,\n",
       "        3.56445312e-02, -6.93359375e-02, -1.46484375e-01, -1.21093750e-01,\n",
       "       -2.27539062e-01,  2.45361328e-02, -1.24511719e-01, -3.18359375e-01,\n",
       "       -2.20703125e-01,  1.30859375e-01,  3.66210938e-02, -3.63769531e-02,\n",
       "       -1.13281250e-01,  1.95312500e-01,  9.76562500e-02,  1.26953125e-01,\n",
       "        6.59179688e-02,  6.93359375e-02,  1.02539062e-02,  1.75781250e-01,\n",
       "       -1.68945312e-01,  1.21307373e-03, -2.98828125e-01, -1.15234375e-01,\n",
       "        5.66406250e-02, -1.77734375e-01, -2.08984375e-01,  1.76757812e-01,\n",
       "        2.38037109e-02, -2.57812500e-01, -4.46777344e-02,  1.88476562e-01,\n",
       "        5.51757812e-02,  5.02929688e-02, -1.06933594e-01,  1.89453125e-01,\n",
       "       -1.16210938e-01,  8.49609375e-02, -1.71875000e-01,  2.45117188e-01,\n",
       "       -1.73828125e-01, -8.30078125e-03,  4.56542969e-02, -1.61132812e-02,\n",
       "        1.86523438e-01, -6.05468750e-02, -4.17480469e-02,  1.82617188e-01,\n",
       "        2.20703125e-01, -1.22558594e-01, -2.55126953e-02, -3.08593750e-01,\n",
       "        9.13085938e-02,  1.60156250e-01,  1.70898438e-01,  1.19628906e-01,\n",
       "        7.08007812e-02, -2.64892578e-02, -3.08837891e-02,  4.06250000e-01,\n",
       "       -1.01562500e-01,  5.71289062e-02, -7.26318359e-03, -9.17968750e-02,\n",
       "       -1.50390625e-01, -2.55859375e-01,  2.16796875e-01, -3.63769531e-02,\n",
       "        2.24609375e-01,  8.00781250e-02,  1.56250000e-01,  5.27343750e-02,\n",
       "        1.50390625e-01, -1.14746094e-01, -8.64257812e-02,  1.19140625e-01,\n",
       "       -7.17773438e-02,  2.73437500e-01, -1.64062500e-01,  7.29370117e-03,\n",
       "        4.21875000e-01, -1.12792969e-01, -1.35742188e-01, -1.31835938e-01,\n",
       "       -1.37695312e-01, -7.66601562e-02,  6.25000000e-02,  4.98046875e-02,\n",
       "       -1.91406250e-01, -6.03027344e-02,  2.27539062e-01,  5.88378906e-02,\n",
       "       -3.24218750e-01,  5.41992188e-02, -1.35742188e-01,  8.17871094e-03,\n",
       "       -5.24902344e-02, -1.74713135e-03, -9.81445312e-02, -2.86865234e-02,\n",
       "        3.61328125e-02,  2.15820312e-01,  5.98144531e-02, -3.08593750e-01,\n",
       "       -2.27539062e-01,  2.61718750e-01,  9.86328125e-02, -5.07812500e-02,\n",
       "        1.78222656e-02,  1.31835938e-01, -5.35156250e-01, -1.81640625e-01,\n",
       "        1.38671875e-01, -3.10546875e-01, -9.71679688e-02,  1.31835938e-01,\n",
       "       -1.16210938e-01,  7.03125000e-02,  2.85156250e-01,  3.51562500e-02,\n",
       "       -1.01562500e-01, -3.75976562e-02,  1.41601562e-01,  1.42578125e-01,\n",
       "       -5.68847656e-02,  2.65625000e-01, -2.09960938e-01,  9.64355469e-03,\n",
       "       -6.68945312e-02, -4.83398438e-02, -6.10351562e-02,  2.45117188e-01,\n",
       "       -9.66796875e-02,  1.78222656e-02, -1.27929688e-01, -4.78515625e-02,\n",
       "       -7.26318359e-03,  1.79687500e-01,  2.78320312e-02, -2.10937500e-01,\n",
       "       -1.43554688e-01, -1.27929688e-01,  1.73339844e-02, -3.60107422e-03,\n",
       "       -2.04101562e-01,  3.63159180e-03, -1.19628906e-01, -6.15234375e-02,\n",
       "        5.93261719e-02, -3.23486328e-03, -1.70898438e-01, -3.14941406e-02,\n",
       "       -8.88671875e-02, -2.89062500e-01,  3.44238281e-02, -1.87500000e-01,\n",
       "        2.94921875e-01,  1.58203125e-01, -1.19628906e-01,  7.61718750e-02,\n",
       "        6.39648438e-02, -4.68750000e-02, -6.83593750e-02,  1.21459961e-02,\n",
       "       -1.44531250e-01,  4.54101562e-02,  3.68652344e-02,  3.88671875e-01,\n",
       "        1.45507812e-01, -2.55859375e-01, -4.46777344e-02, -1.33789062e-01,\n",
       "       -1.38671875e-01,  6.59179688e-02,  1.37695312e-01,  1.14746094e-01,\n",
       "        2.03125000e-01, -4.78515625e-02,  1.80664062e-02, -8.54492188e-02,\n",
       "       -2.48046875e-01, -3.39843750e-01, -2.83203125e-02,  1.05468750e-01,\n",
       "       -2.14843750e-01, -8.74023438e-02,  7.12890625e-02,  1.87500000e-01,\n",
       "       -1.12304688e-01,  2.73437500e-01, -3.26171875e-01, -1.77734375e-01,\n",
       "       -4.24804688e-02, -2.69531250e-01,  6.64062500e-02, -6.88476562e-02,\n",
       "       -1.99218750e-01, -7.03125000e-02, -2.43164062e-01, -3.66210938e-02,\n",
       "       -7.37304688e-02, -1.77734375e-01,  9.17968750e-02, -1.25000000e-01,\n",
       "       -1.65039062e-01, -3.57421875e-01, -2.85156250e-01, -1.66992188e-01,\n",
       "        1.97265625e-01, -1.53320312e-01,  2.31933594e-02,  2.06054688e-01,\n",
       "        1.80664062e-01, -2.74658203e-02, -1.92382812e-01, -9.61914062e-02,\n",
       "       -1.06811523e-02, -4.73632812e-02,  6.54296875e-02, -1.25732422e-02,\n",
       "        1.78222656e-02, -8.00781250e-02, -2.59765625e-01,  9.37500000e-02,\n",
       "       -7.81250000e-02,  4.68750000e-02, -2.22167969e-02,  1.86767578e-02,\n",
       "        3.11279297e-02,  1.04980469e-02, -1.69921875e-01,  2.58789062e-02,\n",
       "       -3.41796875e-02, -1.44042969e-02, -5.46875000e-02, -8.78906250e-02,\n",
       "        1.96838379e-03,  2.23632812e-01, -1.36718750e-01,  1.75781250e-01,\n",
       "       -1.63085938e-01,  1.87500000e-01,  3.44238281e-02, -5.63964844e-02,\n",
       "       -2.27689743e-05,  4.27246094e-02,  5.81054688e-02, -1.07910156e-01,\n",
       "       -3.88183594e-02, -2.69531250e-01,  3.34472656e-02,  9.81445312e-02,\n",
       "        5.63964844e-02,  2.23632812e-01, -5.49316406e-02,  1.46484375e-01,\n",
       "        5.93261719e-02, -2.19726562e-01,  6.39648438e-02,  1.66015625e-02,\n",
       "        4.56542969e-02,  3.26171875e-01, -3.80859375e-01,  1.70898438e-01,\n",
       "        5.66406250e-02, -1.04492188e-01,  1.38671875e-01, -1.57226562e-01,\n",
       "        3.23486328e-03, -4.80957031e-02, -2.48046875e-01, -6.20117188e-02],\n",
       "      dtype=float32)"
      ]
     },
     "execution_count": 72,
     "metadata": {},
     "output_type": "execute_result"
    }
   ],
   "source": [
    "#word2vec를 가져와서 동일한 'computer'의 워드벡터를 확인해보자.\n",
    "from gensim.models import KeyedVectors\n",
    "\n",
    "word2vec_path = os.getenv('HOME')+'/SUBMIT_MISSION_GIT/ex4_Text/W2V/GoogleNews-vectors-negative300.bin.gz'\n",
    "word2vec = KeyedVectors.load_word2vec_format(word2vec_path, binary=True, limit=1000000)\n",
    "vector = word2vec['computer']\n",
    "vector     "
   ]
  },
  {
   "cell_type": "code",
   "execution_count": 73,
   "metadata": {},
   "outputs": [
    {
     "data": {
      "text/plain": [
       "[('loved', 0.6907792091369629),\n",
       " ('adore', 0.6816873550415039),\n",
       " ('loves', 0.661863386631012),\n",
       " ('passion', 0.6100709438323975),\n",
       " ('hate', 0.600395679473877),\n",
       " ('loving', 0.5886635780334473),\n",
       " ('affection', 0.5664337873458862),\n",
       " ('undying_love', 0.5547305345535278),\n",
       " ('absolutely_adore', 0.5536840558052063),\n",
       " ('adores', 0.5440906882286072)]"
      ]
     },
     "execution_count": 73,
     "metadata": {},
     "output_type": "execute_result"
    }
   ],
   "source": [
    "#word2vec를 사용하니, 아까보다는 결과값이 좀 더 'love'와 가까워진 것을 확인할 수 있다.\n",
    "word2vec.similar_by_word(\"love\")"
   ]
  },
  {
   "cell_type": "markdown",
   "metadata": {},
   "source": [
    "### 사전준비"
   ]
  },
  {
   "cell_type": "code",
   "execution_count": 74,
   "metadata": {},
   "outputs": [],
   "source": [
    "# 10,000개의 단어\n",
    "vocab_size = 10000 \n",
    "# 워드 벡터의 차원수(변경가능, Word2Vec 설명에 300개의 차원수라고 기재되어 있었음)\n",
    "word_vector_dim = 300  \n",
    "\n",
    "embedding_matrix = np.random.rand(vocab_size, word_vector_dim)\n",
    "\n",
    "# embedding_matrix에 Word2Vec 워드벡터를 단어 하나씩마다 차례차례 카피\n",
    "for i in range(4,vocab_size):\n",
    "    if index_to_word[i] in word2vec:\n",
    "        embedding_matrix[i] = word2vec[index_to_word[i]]"
   ]
  },
  {
   "cell_type": "markdown",
   "metadata": {},
   "source": [
    "### 모델의 변경 및 적용"
   ]
  },
  {
   "cell_type": "code",
   "execution_count": 75,
   "metadata": {},
   "outputs": [
    {
     "name": "stdout",
     "output_type": "stream",
     "text": [
      "Model: \"sequential_5\"\n",
      "_________________________________________________________________\n",
      "Layer (type)                 Output Shape              Param #   \n",
      "=================================================================\n",
      "embedding_12 (Embedding)     (None, 580, 300)          3000000   \n",
      "_________________________________________________________________\n",
      "conv1d_4 (Conv1D)            (None, 574, 16)           33616     \n",
      "_________________________________________________________________\n",
      "max_pooling1d_2 (MaxPooling1 (None, 114, 16)           0         \n",
      "_________________________________________________________________\n",
      "conv1d_5 (Conv1D)            (None, 108, 16)           1808      \n",
      "_________________________________________________________________\n",
      "global_max_pooling1d_2 (Glob (None, 16)                0         \n",
      "_________________________________________________________________\n",
      "dense_8 (Dense)              (None, 8)                 136       \n",
      "_________________________________________________________________\n",
      "dense_9 (Dense)              (None, 1)                 9         \n",
      "=================================================================\n",
      "Total params: 3,035,569\n",
      "Trainable params: 3,035,569\n",
      "Non-trainable params: 0\n",
      "_________________________________________________________________\n"
     ]
    }
   ],
   "source": [
    "from tensorflow.keras.initializers import Constant\n",
    "\n",
    "vocab_size = 10000    \n",
    "word_vector_dim = 300  \n",
    "\n",
    "# 모델 구성\n",
    "model = keras.Sequential()\n",
    "model.add(keras.layers.Embedding(vocab_size, \n",
    "                                 word_vector_dim, \n",
    "                                 embeddings_initializer=Constant(embedding_matrix), \n",
    "                                 input_length=maxlen, \n",
    "                                 trainable=True))  \n",
    "model.add(keras.layers.Conv1D(16, 7, activation='relu'))\n",
    "model.add(keras.layers.MaxPooling1D(5))\n",
    "model.add(keras.layers.Conv1D(16, 7, activation='relu'))\n",
    "model.add(keras.layers.GlobalMaxPooling1D())\n",
    "model.add(keras.layers.Dense(8, activation='relu'))\n",
    "model.add(keras.layers.Dense(1, activation='sigmoid')) \n",
    "\n",
    "model.summary()"
   ]
  },
  {
   "cell_type": "markdown",
   "metadata": {},
   "source": [
    "### 학습 진행"
   ]
  },
  {
   "cell_type": "code",
   "execution_count": 76,
   "metadata": {},
   "outputs": [
    {
     "name": "stdout",
     "output_type": "stream",
     "text": [
      "Epoch 1/5\n",
      "30/30 [==============================] - 21s 700ms/step - loss: 0.6817 - accuracy: 0.5570 - val_loss: 0.6646 - val_accuracy: 0.6033\n",
      "Epoch 2/5\n",
      "30/30 [==============================] - 9s 301ms/step - loss: 0.6189 - accuracy: 0.6801 - val_loss: 0.5681 - val_accuracy: 0.7381\n",
      "Epoch 3/5\n",
      "30/30 [==============================] - 9s 300ms/step - loss: 0.4627 - accuracy: 0.8108 - val_loss: 0.4019 - val_accuracy: 0.8263\n",
      "Epoch 4/5\n",
      "30/30 [==============================] - 9s 298ms/step - loss: 0.3213 - accuracy: 0.8674 - val_loss: 0.3245 - val_accuracy: 0.8635\n",
      "Epoch 5/5\n",
      "30/30 [==============================] - 9s 300ms/step - loss: 0.2315 - accuracy: 0.9137 - val_loss: 0.2966 - val_accuracy: 0.8750\n"
     ]
    }
   ],
   "source": [
    "\n",
    "model.compile(optimizer='adam',\n",
    "              loss='binary_crossentropy',\n",
    "              metrics=['accuracy'])\n",
    "              \n",
    "epochs=5  # 몇 epoch를 훈련하면 좋을지 결과를 보면서 바꾸어 봅시다. \n",
    "\n",
    "history = model.fit(partial_x_train,\n",
    "                    partial_y_train,\n",
    "                    epochs=epochs,\n",
    "                    batch_size=512,\n",
    "                    validation_data=(x_val, y_val),\n",
    "                    verbose=1)"
   ]
  },
  {
   "cell_type": "code",
   "execution_count": 77,
   "metadata": {},
   "outputs": [
    {
     "name": "stdout",
     "output_type": "stream",
     "text": [
      "782/782 - 10s - loss: 0.3088 - accuracy: 0.8692\n",
      "[0.30877816677093506, 0.8692399859428406]\n"
     ]
    }
   ],
   "source": [
    "#모델 평가\n",
    "results = model.evaluate(x_test,  y_test, verbose=2)\n",
    "\n",
    "print(results)"
   ]
  },
  {
   "cell_type": "markdown",
   "metadata": {},
   "source": [
    "> 아까 단순히 테스트했던 정확도(0.50대)에서, 많이 향상된 것을 확인할 수 있다. (정확도 +0.3)"
   ]
  },
  {
   "cell_type": "markdown",
   "metadata": {},
   "source": [
    "#### 그럼 이제 '한국어 감성분석 실습'을 진행해보자."
   ]
  }
 ],
 "metadata": {
  "kernelspec": {
   "display_name": "aiffel",
   "language": "python",
   "name": "aiffel"
  },
  "language_info": {
   "codemirror_mode": {
    "name": "ipython",
    "version": 3
   },
   "file_extension": ".py",
   "mimetype": "text/x-python",
   "name": "python",
   "nbconvert_exporter": "python",
   "pygments_lexer": "ipython3",
   "version": "3.7.9"
  }
 },
 "nbformat": 4,
 "nbformat_minor": 4
}
